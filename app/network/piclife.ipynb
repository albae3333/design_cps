{
 "cells": [
  {
   "cell_type": "code",
   "execution_count": 1,
   "metadata": {},
   "outputs": [
    {
     "name": "stderr",
     "output_type": "stream",
     "text": [
      "Using TensorFlow backend.\n"
     ]
    }
   ],
   "source": [
    "import warnings\n",
    "warnings.simplefilter(action='ignore', category=FutureWarning)\n",
    "\n",
    "from tqdm import tqdm_notebook, tnrange\n",
    "from itertools import chain\n",
    "#from skimage.io import imread, imshow, concatenate_images\n",
    "#from skimage.transform import resize\n",
    "#from skimage.morphology import label\n",
    "from sklearn.model_selection import train_test_split\n",
    "\n",
    "import tensorflow as tf\n",
    "\n",
    "from keras.models import Model, load_model, model_from_json\n",
    "from keras.layers import Input, BatchNormalization, Activation, Dense, Dropout\n",
    "from keras.layers.core import Lambda, RepeatVector, Reshape\n",
    "from keras.layers.convolutional import Conv2D, Conv2DTranspose\n",
    "from keras.layers.pooling import MaxPooling2D, GlobalMaxPool2D\n",
    "from keras.layers.merge import concatenate, add\n",
    "from keras.callbacks import EarlyStopping, ModelCheckpoint, ReduceLROnPlateau\n",
    "from keras.optimizers import Adam\n",
    "from keras.preprocessing.image import ImageDataGenerator, array_to_img, img_to_array, load_img"
   ]
  },
  {
   "cell_type": "code",
   "execution_count": 2,
   "metadata": {},
   "outputs": [],
   "source": [
    "import os\n",
    "from os import listdir\n",
    "from os.path import isfile, join\n",
    "import numpy as np\n",
    "import pandas as pd \n",
    "import imutils\n",
    "import cv2\n",
    "import matplotlib.pyplot as plt\n",
    "%matplotlib inline"
   ]
  },
  {
   "cell_type": "code",
   "execution_count": 3,
   "metadata": {},
   "outputs": [
    {
     "name": "stdout",
     "output_type": "stream",
     "text": [
      "Loaded model from disk\n"
     ]
    }
   ],
   "source": [
    "json_file = open('C:\\\\Users\\\\rembo\\\\Documents\\\\classes\\\\DCPS\\\\Trash\\\\modeladv3.json', 'r')\n",
    "loaded_model_json = json_file.read()\n",
    "json_file.close()\n",
    "loaded_model = model_from_json(loaded_model_json)\n",
    "# load weights into new model\n",
    "loaded_model.load_weights(\"C:\\\\Users\\\\rembo\\\\Documents\\\\classes\\\\DCPS\\\\Trash\\\\modeladv3.h5\")\n",
    "print(\"Loaded model from disk\")\n",
    "loaded_model.compile(optimizer=Adam(), loss=\"binary_crossentropy\", metrics=[\"accuracy\"])"
   ]
  },
  {
   "cell_type": "code",
   "execution_count": 4,
   "metadata": {},
   "outputs": [],
   "source": [
    "crosssize=20\n",
    "crossthick=2\n",
    "rectanglesize=80\n",
    "imgsize = 80\n",
    "imgsavesize = 120\n",
    "\n",
    "x = 320\n",
    "y = 240"
   ]
  },
  {
   "cell_type": "code",
   "execution_count": 5,
   "metadata": {},
   "outputs": [],
   "source": [
    "def cross(imgpar, x, y):\n",
    "    cv2.rectangle(imgpar, (x-rectanglesize//2,y-rectanglesize//2), (x+rectanglesize//2,y+rectanglesize//2),(255,0,0),crossthick)\n",
    "    return imgpar"
   ]
  },
  {
   "cell_type": "code",
   "execution_count": 6,
   "metadata": {},
   "outputs": [],
   "source": [
    "def predictedmask(piclist, thresh=0.6):\n",
    "    y_list = []\n",
    "    for pic in piclist:\n",
    "        assert pic.shape == (imgsize, imgsize, 3)\n",
    "            \n",
    "        imgret = np.zeros((imgsize, imgsize,3), np.uint8)\n",
    "        for i in range(imgsize):\n",
    "            for j in range(imgsize):\n",
    "                if pic[i,j,2] >= thresh:\n",
    "                    imgret[i,j,2] = 255\n",
    "                else:\n",
    "                    imgret[i,j,2] = 0\n",
    "        y_list.append(imgret)\n",
    "    return y_list"
   ]
  },
  {
   "cell_type": "code",
   "execution_count": 7,
   "metadata": {},
   "outputs": [],
   "source": [
    "pathname = 'C:\\\\Users\\\\rembo\\\\Documents\\\\classes\\\\DCPS\\\\Trash\\\\images\\\\'\n",
    "i = 605\n",
    "cap = cv2.VideoCapture(0) # video capture source camera (Here webcam of laptop) \n",
    "\n",
    "ret,frame = cap.read() # return a single frame in variable `frame`\n",
    "#imgrect = frame[y-rectanglesize//2:y+rectanglesize//2, x-rectanglesize//2:x+rectanglesize//2]\n",
    "img = frame.copy()\n",
    "img = cross(img,x,y)\n",
    "runpred=False\n",
    "\n",
    "while(True):\n",
    "\n",
    "\n",
    "    cv2.imshow('img1',img) #display the captured image\n",
    "    key = cv2.waitKey(100)\n",
    "    ret,frame = cap.read() # return a single frame in variable `frame`\n",
    "    img = frame.copy()\n",
    "    img = cross(img,x,y)\n",
    "    if key&0xFF == ord(\"+\"): \n",
    "        rectanglesize = rectanglesize + 2\n",
    "    if key&0xFF == ord(\"-\"): \n",
    "        rectanglesize = rectanglesize - 2\n",
    "    if key&0xFF == ord('r'):\n",
    "        if runpred==False:\n",
    "            runpred=True\n",
    "        else:\n",
    "            runpred=False\n",
    "    if key&0xFF == ord('s') and runpred == False:\n",
    "        imgsave = frame[y-rectanglesize//2:y+rectanglesize//2, x-rectanglesize//2:x+rectanglesize//2]\n",
    "        imgsave = cv2.resize(imgsave, (imgsavesize,imgsavesize), interpolation = cv2.INTER_AREA)\n",
    "        cv2.imwrite(join(pathname, '{}.png'.format(i)),imgsave)\n",
    "        i += 1\n",
    "    if runpred==True:\n",
    "        X_test = []\n",
    "        imgsave = frame[y-rectanglesize//2:y+rectanglesize//2, x-rectanglesize//2:x+rectanglesize//2]\n",
    "        imgsave = cv2.resize(imgsave, (imgsize,imgsize), interpolation = cv2.INTER_AREA)\n",
    "        X_test.append(imgsave)\n",
    "        X_test = np.array(X_test, dtype=np.float32)       \n",
    "        X_test -= X_test.mean()\n",
    "        X_test /= X_test.std()\n",
    "        predictions_test = loaded_model.predict(X_test, batch_size=1, verbose=0)\n",
    "        predictions_pics = predictedmask(predictions_test,0.5)\n",
    "        imgsave = cv2.addWeighted(imgsave, 0.7, predictions_pics[0], 0.3, 0)\n",
    "        imgrect = cv2.resize(imgsave, (rectanglesize, rectanglesize), interpolation = cv2.INTER_AREA)\n",
    "        img[y-rectanglesize//2:y+rectanglesize//2,x-rectanglesize//2:x+rectanglesize//2] = imgrect    \n",
    "        \n",
    "    if key&0xFF == ord('q'):\n",
    "        break\n",
    "\n",
    "cv2.destroyAllWindows()\n",
    "cap.release()"
   ]
  },
  {
   "cell_type": "code",
   "execution_count": 12,
   "metadata": {},
   "outputs": [],
   "source": [
    "cv2.destroyAllWindows()\n",
    "cap.release()"
   ]
  },
  {
   "cell_type": "code",
   "execution_count": null,
   "metadata": {},
   "outputs": [],
   "source": []
  }
 ],
 "metadata": {
  "kernelspec": {
   "display_name": "Python 3",
   "language": "python",
   "name": "python3"
  },
  "language_info": {
   "codemirror_mode": {
    "name": "ipython",
    "version": 3
   },
   "file_extension": ".py",
   "mimetype": "text/x-python",
   "name": "python",
   "nbconvert_exporter": "python",
   "pygments_lexer": "ipython3",
   "version": "3.7.5"
  }
 },
 "nbformat": 4,
 "nbformat_minor": 2
}
