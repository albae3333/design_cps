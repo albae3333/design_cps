{
 "cells": [
  {
   "cell_type": "code",
   "execution_count": null,
   "metadata": {},
   "outputs": [],
   "source": []
  },
  {
   "cell_type": "code",
   "execution_count": 1,
   "metadata": {},
   "outputs": [],
   "source": [
    "import os\n",
    "from os import listdir\n",
    "from os.path import isfile, join\n",
    "import numpy as np\n",
    "import pandas as pd \n",
    "import imutils\n",
    "import cv2\n",
    "import matplotlib.pyplot as plt\n",
    "%matplotlib inline"
   ]
  },
  {
   "cell_type": "code",
   "execution_count": 2,
   "metadata": {},
   "outputs": [],
   "source": [
    "crosssize=20\n",
    "crossthick=2\n",
    "rectanglesize=80\n",
    "\n",
    "x = 320\n",
    "y = 240"
   ]
  },
  {
   "cell_type": "code",
   "execution_count": 3,
   "metadata": {},
   "outputs": [],
   "source": [
    "def cross(imgpar, x, y):\n",
    "    cv2.line(imgpar,(x,y),(x+crosssize,y),(255,0,0),crossthick)\n",
    "    cv2.line(imgpar,(x,y),(x-crosssize,y),(255,0,0),crossthick)\n",
    "    cv2.line(imgpar,(x,y),(x,y+crosssize),(255,0,0),crossthick)\n",
    "    cv2.line(imgpar,(x,y),(x,y-crosssize),(255,0,0),crossthick)\n",
    "    cv2.circle(imgpar,(x,y),crosssize//2,(255,0,0),crossthick)\n",
    "    cv2.rectangle(imgpar, (x-rectanglesize//2,y-rectanglesize//2), (x+rectanglesize//2,y+rectanglesize//2),(255,0,0),crossthick)\n",
    "    return imgpar"
   ]
  },
  {
   "cell_type": "code",
   "execution_count": null,
   "metadata": {},
   "outputs": [],
   "source": []
  },
  {
   "cell_type": "code",
   "execution_count": 9,
   "metadata": {},
   "outputs": [],
   "source": [
    "pathname = 'C:\\\\Users\\\\rembo\\\\Documents\\\\classes\\\\DCPS\\\\Trash\\\\images\\\\'\n",
    "i=200\n",
    "\n",
    "cap = cv2.VideoCapture(0) # video capture source camera (Here webcam of laptop) \n",
    "\n",
    "while(True):\n",
    "    ret,frame = cap.read() # return a single frame in variable `frame`\n",
    "    img = frame.copy()\n",
    "    img = cross(img,x,y)\n",
    "    cv2.imshow('img1',img) #display the captured image\n",
    "    key = cv2.waitKey(1)\n",
    "    if key&0xFF == ord(\"+\"): \n",
    "        rectanglesize = rectanglesize + 2\n",
    "    if key&0xFF == ord(\"-\"): \n",
    "        rectanglesize = rectanglesize - 2\n",
    "    if key&0xFF == ord('s'): #save on pressing 's' \n",
    "        imgsave = frame[y-rectanglesize//2:y+rectanglesize//2, x-rectanglesize//2:x+rectanglesize//2]\n",
    "        imgsave = cv2.resize(imgsave, (80,80), interpolation = cv2.INTER_AREA)\n",
    "        cv2.imwrite(join(pathname, '{}.png'.format(i)),imgsave)\n",
    "        i+=1\n",
    "    if key&0xFF == ord('q'):\n",
    "        break\n",
    "\n",
    "cv2.destroyAllWindows()\n",
    "cap.release()"
   ]
  },
  {
   "cell_type": "code",
   "execution_count": null,
   "metadata": {},
   "outputs": [],
   "source": []
  }
 ],
 "metadata": {
  "kernelspec": {
   "display_name": "Python 3",
   "language": "python",
   "name": "python3"
  },
  "language_info": {
   "codemirror_mode": {
    "name": "ipython",
    "version": 3
   },
   "file_extension": ".py",
   "mimetype": "text/x-python",
   "name": "python",
   "nbconvert_exporter": "python",
   "pygments_lexer": "ipython3",
   "version": "3.7.4"
  }
 },
 "nbformat": 4,
 "nbformat_minor": 2
}
